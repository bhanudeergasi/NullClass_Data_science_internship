{
  "cells": [
    {
      "cell_type": "markdown",
      "metadata": {
        "id": "view-in-github",
        "colab_type": "text"
      },
      "source": [
        "<a href=\"https://colab.research.google.com/github/bhanudeergasi/NullClass_Data_science_internship/blob/main/model_training2_.ipynb\" target=\"_parent\"><img src=\"https://colab.research.google.com/assets/colab-badge.svg\" alt=\"Open In Colab\"/></a>"
      ]
    },
    {
      "cell_type": "code",
      "execution_count": 1,
      "metadata": {
        "id": "kj6WV4PvMgra"
      },
      "outputs": [],
      "source": []
    },
    {
      "cell_type": "markdown",
      "metadata": {
        "id": "bho-TcpIMpmi"
      },
      "source": [
        "# === TASK2 CGAN Notebook ===\n"
      ]
    },
    {
      "cell_type": "code",
      "execution_count": 2,
      "metadata": {
        "colab": {
          "base_uri": "https://localhost:8080/"
        },
        "id": "zr84WB-dMqiP",
        "outputId": "130f2030-4a06-41ee-a5f4-e94ef1c40cd7"
      },
      "outputs": [
        {
          "output_type": "stream",
          "name": "stdout",
          "text": [
            "Drive already mounted at /content/drive; to attempt to forcibly remount, call drive.mount(\"/content/drive\", force_remount=True).\n"
          ]
        }
      ],
      "source": [
        "from google.colab import drive\n",
        "drive.mount('/content/drive')"
      ]
    },
    {
      "cell_type": "code",
      "execution_count": 3,
      "metadata": {
        "id": "OcqJag5IMt25"
      },
      "outputs": [],
      "source": [
        "import os\n",
        "import numpy as np\n",
        "import matplotlib.pyplot as plt\n",
        "import cv2\n",
        "import torch\n",
        "import torch.nn as nn\n",
        "import torch.optim as optim\n",
        "from torch.utils.data import DataLoader, TensorDataset\n",
        "from sklearn.model_selection import train_test_split\n",
        "from sklearn.metrics import accuracy_score, precision_score, recall_score, f1_score"
      ]
    },
    {
      "cell_type": "code",
      "execution_count": 4,
      "metadata": {
        "colab": {
          "base_uri": "https://localhost:8080/"
        },
        "id": "GTY9HhkJMuHL",
        "outputId": "67e04ab6-6987-412b-8d6d-5e7090ee2e99"
      },
      "outputs": [
        {
          "output_type": "stream",
          "name": "stdout",
          "text": [
            "Using device: cpu\n"
          ]
        }
      ],
      "source": [
        "device = torch.device(\"cuda\" if torch.cuda.is_available() else \"cpu\")\n",
        "print(\"Using device:\", device)\n"
      ]
    },
    {
      "cell_type": "code",
      "execution_count": 5,
      "metadata": {
        "colab": {
          "base_uri": "https://localhost:8080/"
        },
        "id": "EAOphMcRMuWY",
        "outputId": "bcd49f22-8a7d-4e5a-eff0-f9cff04621eb"
      },
      "outputs": [
        {
          "output_type": "stream",
          "name": "stdout",
          "text": [
            "Models and files will be saved in: /content/drive/MyDrive/TASK2\n"
          ]
        }
      ],
      "source": [
        "# 2. Create folder in Drive to save models\n",
        "base_path = '/content/drive/MyDrive/TASK2'\n",
        "os.makedirs(base_path, exist_ok=True)\n",
        "print(f\"Models and files will be saved in: {base_path}\")"
      ]
    },
    {
      "cell_type": "code",
      "execution_count": 6,
      "metadata": {
        "id": "y5lnjxOHM9kM"
      },
      "outputs": [],
      "source": [
        "# 3. Generate synthetic dataset (circles, squares, triangles)\n",
        "def generate_shape(shape, img_size=28):\n",
        "    img = np.zeros((img_size, img_size), dtype=np.uint8)\n",
        "    thickness = -1  # filled shape\n",
        "    color = 255\n",
        "    if shape == 'circle':\n",
        "        cv2.circle(img, (img_size//2, img_size//2), img_size//3, color, thickness)\n",
        "    elif shape == 'square':\n",
        "        side = img_size//2\n",
        "        top_left = (img_size//2 - side//2, img_size//2 - side//2)\n",
        "        bottom_right = (img_size//2 + side//2, img_size//2 + side//2)\n",
        "        cv2.rectangle(img, top_left, bottom_right, color, thickness)\n",
        "    elif shape == 'triangle':\n",
        "        pts = np.array([\n",
        "            [img_size//2, img_size//6],\n",
        "            [img_size//6, img_size*5//6],\n",
        "            [img_size*5//6, img_size*5//6]\n",
        "        ])\n",
        "        cv2.drawContours(img, [pts], 0, color, thickness)\n",
        "    return img\n",
        "\n",
        "shapes = ['circle', 'square', 'triangle']\n",
        "num_samples_per_class = 1000\n",
        "img_size = 28\n",
        "\n",
        "all_imgs = []\n",
        "all_labels = []\n",
        "\n",
        "for label, shape in enumerate(shapes):\n",
        "    for _ in range(num_samples_per_class):\n",
        "        all_imgs.append(generate_shape(shape, img_size))\n",
        "        all_labels.append(label)\n",
        "\n",
        "all_imgs = np.array(all_imgs) / 255.0  # Normalize to [0,1]\n",
        "all_labels = np.array(all_labels)\n",
        "\n",
        "# Train-test split\n",
        "train_imgs, test_imgs, train_labels, test_labels = train_test_split(\n",
        "    all_imgs, all_labels, test_size=0.2, random_state=42)\n",
        "\n",
        "train_tensor = torch.tensor(train_imgs).unsqueeze(1).float()\n",
        "train_labels_tensor = torch.tensor(train_labels)\n",
        "test_tensor = torch.tensor(test_imgs).unsqueeze(1).float()\n",
        "test_labels_tensor = torch.tensor(test_labels)\n",
        "\n",
        "train_dataset = TensorDataset(train_tensor, train_labels_tensor)\n",
        "test_dataset = TensorDataset(test_tensor, test_labels_tensor)\n",
        "\n",
        "batch_size = 64\n",
        "train_loader = DataLoader(train_dataset, batch_size=batch_size, shuffle=True)\n",
        "test_loader = DataLoader(test_dataset, batch_size=batch_size)"
      ]
    },
    {
      "cell_type": "code",
      "execution_count": 7,
      "metadata": {
        "id": "SYX-lLE5M9Nu"
      },
      "outputs": [],
      "source": [
        "# 4. Define CGAN models\n",
        "latent_dim = 100\n",
        "num_classes = len(shapes)\n",
        "\n",
        "class Generator(nn.Module):\n",
        "    def __init__(self):\n",
        "        super().__init__()\n",
        "        self.label_emb = nn.Embedding(num_classes, num_classes)\n",
        "        self.model = nn.Sequential(\n",
        "            nn.Linear(latent_dim + num_classes, 128),\n",
        "            nn.ReLU(True),\n",
        "            nn.Linear(128, 256),\n",
        "            nn.BatchNorm1d(256),\n",
        "            nn.ReLU(True),\n",
        "            nn.Linear(256, 512),\n",
        "            nn.BatchNorm1d(512),\n",
        "            nn.ReLU(True),\n",
        "            nn.Linear(512, img_size*img_size),\n",
        "            nn.Tanh()\n",
        "        )\n",
        "\n",
        "    def forward(self, noise, labels):\n",
        "        c = self.label_emb(labels)\n",
        "        x = torch.cat([noise, c], 1)\n",
        "        out = self.model(x)\n",
        "        out = out.view(out.size(0), 1, img_size, img_size)\n",
        "        return out\n",
        "\n",
        "class Discriminator(nn.Module):\n",
        "    def __init__(self):\n",
        "        super().__init__()\n",
        "        self.label_emb = nn.Embedding(num_classes, num_classes)\n",
        "        self.model = nn.Sequential(\n",
        "            nn.Linear(img_size*img_size + num_classes, 512),\n",
        "            nn.LeakyReLU(0.2, inplace=True),\n",
        "            nn.Linear(512, 256),\n",
        "            nn.LeakyReLU(0.2, inplace=True),\n",
        "            nn.Linear(256, 1),\n",
        "            nn.Sigmoid()\n",
        "        )\n",
        "\n",
        "    def forward(self, img, labels):\n",
        "        c = self.label_emb(labels)\n",
        "        img_flat = img.view(img.size(0), -1)\n",
        "        x = torch.cat([img_flat, c], 1)\n",
        "        validity = self.model(x)\n",
        "        return validity\n",
        "\n",
        "generator = Generator().to(device)\n",
        "discriminator = Discriminator().to(device)"
      ]
    },
    {
      "cell_type": "code",
      "execution_count": 8,
      "metadata": {
        "colab": {
          "base_uri": "https://localhost:8080/"
        },
        "id": "wD_SoUvwM9Aj",
        "outputId": "e1f1ed07-d937-49cb-b301-a22d1c383015"
      },
      "outputs": [
        {
          "output_type": "stream",
          "name": "stdout",
          "text": [
            "Epoch [1/50]  Generator Loss: 0.6625  Discriminator Loss: 0.5254\n",
            "Epoch [2/50]  Generator Loss: 1.1399  Discriminator Loss: 0.3418\n",
            "Epoch [3/50]  Generator Loss: 1.2761  Discriminator Loss: 0.3407\n",
            "Epoch [4/50]  Generator Loss: 1.8731  Discriminator Loss: 0.1955\n",
            "Epoch [5/50]  Generator Loss: 2.1200  Discriminator Loss: 0.1637\n",
            "Epoch [6/50]  Generator Loss: 2.3764  Discriminator Loss: 0.1604\n",
            "Epoch [7/50]  Generator Loss: 2.4347  Discriminator Loss: 0.1380\n",
            "Epoch [8/50]  Generator Loss: 2.8596  Discriminator Loss: 0.1758\n",
            "Epoch [9/50]  Generator Loss: 2.6318  Discriminator Loss: 0.1705\n",
            "Epoch [10/50]  Generator Loss: 2.7045  Discriminator Loss: 0.1139\n",
            "Epoch [11/50]  Generator Loss: 3.2719  Discriminator Loss: 0.2495\n",
            "Epoch [12/50]  Generator Loss: 2.3741  Discriminator Loss: 0.2121\n",
            "Epoch [13/50]  Generator Loss: 2.9487  Discriminator Loss: 0.2357\n",
            "Epoch [14/50]  Generator Loss: 2.4432  Discriminator Loss: 0.3380\n",
            "Epoch [15/50]  Generator Loss: 2.6349  Discriminator Loss: 0.2361\n",
            "Epoch [16/50]  Generator Loss: 2.8462  Discriminator Loss: 0.2458\n",
            "Epoch [17/50]  Generator Loss: 2.4796  Discriminator Loss: 0.3575\n",
            "Epoch [18/50]  Generator Loss: 2.3492  Discriminator Loss: 0.3096\n",
            "Epoch [19/50]  Generator Loss: 2.5697  Discriminator Loss: 0.3373\n",
            "Epoch [20/50]  Generator Loss: 2.4115  Discriminator Loss: 0.3797\n",
            "Epoch [21/50]  Generator Loss: 2.3824  Discriminator Loss: 0.3706\n",
            "Epoch [22/50]  Generator Loss: 2.2812  Discriminator Loss: 0.3589\n",
            "Epoch [23/50]  Generator Loss: 2.1864  Discriminator Loss: 0.3978\n",
            "Epoch [24/50]  Generator Loss: 2.1319  Discriminator Loss: 0.4234\n",
            "Epoch [25/50]  Generator Loss: 2.2097  Discriminator Loss: 0.4136\n",
            "Epoch [26/50]  Generator Loss: 2.1235  Discriminator Loss: 0.4229\n",
            "Epoch [27/50]  Generator Loss: 2.2134  Discriminator Loss: 0.4194\n",
            "Epoch [28/50]  Generator Loss: 1.9423  Discriminator Loss: 0.4891\n",
            "Epoch [29/50]  Generator Loss: 2.0419  Discriminator Loss: 0.4441\n",
            "Epoch [30/50]  Generator Loss: 2.0238  Discriminator Loss: 0.4476\n",
            "Epoch [31/50]  Generator Loss: 2.0315  Discriminator Loss: 0.4571\n",
            "Epoch [32/50]  Generator Loss: 1.9955  Discriminator Loss: 0.4670\n",
            "Epoch [33/50]  Generator Loss: 1.9447  Discriminator Loss: 0.4643\n",
            "Epoch [34/50]  Generator Loss: 1.9438  Discriminator Loss: 0.4921\n",
            "Epoch [35/50]  Generator Loss: 1.8161  Discriminator Loss: 0.5066\n",
            "Epoch [36/50]  Generator Loss: 1.7813  Discriminator Loss: 0.4898\n",
            "Epoch [37/50]  Generator Loss: 1.8436  Discriminator Loss: 0.5043\n",
            "Epoch [38/50]  Generator Loss: 1.8726  Discriminator Loss: 0.4707\n",
            "Epoch [39/50]  Generator Loss: 1.9188  Discriminator Loss: 0.4745\n",
            "Epoch [40/50]  Generator Loss: 1.8382  Discriminator Loss: 0.5086\n",
            "Epoch [41/50]  Generator Loss: 1.6438  Discriminator Loss: 0.5032\n",
            "Epoch [42/50]  Generator Loss: 1.7600  Discriminator Loss: 0.5527\n",
            "Epoch [43/50]  Generator Loss: 1.5760  Discriminator Loss: 0.5293\n",
            "Epoch [44/50]  Generator Loss: 1.6779  Discriminator Loss: 0.5414\n",
            "Epoch [45/50]  Generator Loss: 1.6449  Discriminator Loss: 0.5084\n",
            "Epoch [46/50]  Generator Loss: 1.7023  Discriminator Loss: 0.5612\n",
            "Epoch [47/50]  Generator Loss: 1.6430  Discriminator Loss: 0.5265\n",
            "Epoch [48/50]  Generator Loss: 1.6366  Discriminator Loss: 0.5648\n",
            "Epoch [49/50]  Generator Loss: 1.6056  Discriminator Loss: 0.5302\n",
            "Epoch [50/50]  Generator Loss: 1.5225  Discriminator Loss: 0.5536\n"
          ]
        }
      ],
      "source": [
        "# 5. Training CGAN\n",
        "adversarial_loss = nn.BCELoss()\n",
        "optimizer_G = optim.Adam(generator.parameters(), lr=0.0002, betas=(0.5, 0.999))\n",
        "optimizer_D = optim.Adam(discriminator.parameters(), lr=0.0002, betas=(0.5, 0.999))\n",
        "\n",
        "epochs = 50\n",
        "\n",
        "for epoch in range(epochs):\n",
        "    generator.train()\n",
        "    discriminator.train()\n",
        "    g_loss_epoch = 0\n",
        "    d_loss_epoch = 0\n",
        "\n",
        "    for imgs, labels in train_loader:\n",
        "        batch_size_curr = imgs.size(0)\n",
        "        real_imgs = imgs.to(device)\n",
        "        labels = labels.to(device)\n",
        "\n",
        "        # Adversarial ground truths\n",
        "        valid = torch.ones(batch_size_curr, 1, device=device)\n",
        "        fake = torch.zeros(batch_size_curr, 1, device=device)\n",
        "\n",
        "        # Train Generator\n",
        "        optimizer_G.zero_grad()\n",
        "        z = torch.randn(batch_size_curr, latent_dim, device=device)\n",
        "        gen_labels = torch.randint(0, num_classes, (batch_size_curr,), device=device)\n",
        "        gen_imgs = generator(z, gen_labels)\n",
        "        g_loss = adversarial_loss(discriminator(gen_imgs, gen_labels), valid)\n",
        "        g_loss.backward()\n",
        "        optimizer_G.step()\n",
        "\n",
        "        # Train Discriminator\n",
        "        optimizer_D.zero_grad()\n",
        "        real_loss = adversarial_loss(discriminator(real_imgs, labels), valid)\n",
        "        fake_loss = adversarial_loss(discriminator(gen_imgs.detach(), gen_labels), fake)\n",
        "        d_loss = (real_loss + fake_loss) / 2\n",
        "        d_loss.backward()\n",
        "        optimizer_D.step()\n",
        "\n",
        "        g_loss_epoch += g_loss.item()\n",
        "        d_loss_epoch += d_loss.item()\n",
        "\n",
        "    print(f\"Epoch [{epoch+1}/{epochs}]  Generator Loss: {g_loss_epoch/len(train_loader):.4f}  Discriminator Loss: {d_loss_epoch/len(train_loader):.4f}\")"
      ]
    },
    {
      "cell_type": "code",
      "execution_count": 9,
      "metadata": {
        "colab": {
          "base_uri": "https://localhost:8080/"
        },
        "id": "Mgf51ujvM8qO",
        "outputId": "04c26be7-1bec-4183-92ea-966ef382f82d"
      },
      "outputs": [
        {
          "output_type": "stream",
          "name": "stdout",
          "text": [
            "Models saved successfully!\n"
          ]
        }
      ],
      "source": [
        "# 6. Save models to Drive\n",
        "torch.save(generator.state_dict(), os.path.join(base_path, \"generator.pth\"))\n",
        "torch.save(discriminator.state_dict(), os.path.join(base_path, \"discriminator.pth\"))\n",
        "print(\"Models saved successfully!\")"
      ]
    },
    {
      "cell_type": "code",
      "execution_count": 10,
      "metadata": {
        "id": "yy8-np2UNOkP"
      },
      "outputs": [],
      "source": [
        "# 7. Define a simple CNN classifier to evaluate generated images\n",
        "class SimpleCNN(nn.Module):\n",
        "    def __init__(self):\n",
        "        super().__init__()\n",
        "        self.conv1 = nn.Conv2d(1, 16, 3, padding=1)\n",
        "        self.conv2 = nn.Conv2d(16, 32, 3, padding=1)\n",
        "        self.pool = nn.MaxPool2d(2, 2)\n",
        "        self.fc1 = nn.Linear(32 * 7 * 7, 64)\n",
        "        self.fc2 = nn.Linear(64, num_classes)\n",
        "\n",
        "    def forward(self, x):\n",
        "        x = self.pool(torch.relu(self.conv1(x)))\n",
        "        x = self.pool(torch.relu(self.conv2(x)))\n",
        "        x = x.view(-1, 32 * 7 * 7)\n",
        "        x = torch.relu(self.fc1(x))\n",
        "        x = self.fc2(x)\n",
        "        return x\n",
        "\n",
        "classifier = SimpleCNN().to(device)\n",
        "criterion_cls = nn.CrossEntropyLoss()\n",
        "optimizer_cls = optim.Adam(classifier.parameters(), lr=0.001)"
      ]
    },
    {
      "cell_type": "code",
      "execution_count": 11,
      "metadata": {
        "colab": {
          "base_uri": "https://localhost:8080/"
        },
        "id": "RIX4NH4fNO3V",
        "outputId": "fee6229f-53f9-4312-8ebb-e5a52883f121"
      },
      "outputs": [
        {
          "output_type": "stream",
          "name": "stdout",
          "text": [
            "Classifier Epoch 1/10 Loss: 0.4161\n",
            "Classifier Epoch 2/10 Loss: 0.0013\n",
            "Classifier Epoch 3/10 Loss: 0.0003\n",
            "Classifier Epoch 4/10 Loss: 0.0002\n",
            "Classifier Epoch 5/10 Loss: 0.0001\n",
            "Classifier Epoch 6/10 Loss: 0.0001\n",
            "Classifier Epoch 7/10 Loss: 0.0000\n",
            "Classifier Epoch 8/10 Loss: 0.0000\n",
            "Classifier Epoch 9/10 Loss: 0.0000\n",
            "Classifier Epoch 10/10 Loss: 0.0000\n"
          ]
        }
      ],
      "source": [
        "# 8. Train classifier on real images\n",
        "epochs_cls = 10\n",
        "for epoch in range(epochs_cls):\n",
        "    classifier.train()\n",
        "    running_loss = 0\n",
        "    for imgs_batch, lbls_batch in train_loader:\n",
        "        imgs_batch, lbls_batch = imgs_batch.to(device), lbls_batch.to(device)\n",
        "        optimizer_cls.zero_grad()\n",
        "        outputs = classifier(imgs_batch)\n",
        "        loss = criterion_cls(outputs, lbls_batch)\n",
        "        loss.backward()\n",
        "        optimizer_cls.step()\n",
        "        running_loss += loss.item()\n",
        "    print(f\"Classifier Epoch {epoch+1}/{epochs_cls} Loss: {running_loss/len(train_loader):.4f}\")"
      ]
    },
    {
      "cell_type": "code",
      "execution_count": 12,
      "metadata": {
        "colab": {
          "base_uri": "https://localhost:8080/"
        },
        "id": "hVfpuDUMNU0F",
        "outputId": "17f9cb31-e91b-479b-86b6-f12390dc356c"
      },
      "outputs": [
        {
          "output_type": "stream",
          "name": "stdout",
          "text": [
            "\n",
            "Evaluation on generated images:\n",
            "Accuracy: 0.9000\n",
            "Precision: 0.9231\n",
            "Recall: 0.9000\n",
            "F1 Score: 0.8989\n"
          ]
        }
      ],
      "source": [
        "# 9. Evaluate classifier on generated images\n",
        "generator.eval()\n",
        "classifier.eval()\n",
        "\n",
        "gen_labels = []\n",
        "gen_preds = []\n",
        "\n",
        "with torch.no_grad():\n",
        "    for label in range(num_classes):\n",
        "        label_tensor = torch.full((50,), label, dtype=torch.long, device=device)\n",
        "        z = torch.randn(50, latent_dim, device=device)\n",
        "        gen_imgs = generator(z, label_tensor)\n",
        "        outputs = classifier(gen_imgs)\n",
        "        preds = outputs.argmax(dim=1).cpu().numpy()\n",
        "        gen_labels.extend([label]*50)\n",
        "        gen_preds.extend(preds)\n",
        "\n",
        "acc = accuracy_score(gen_labels, gen_preds)\n",
        "prec = precision_score(gen_labels, gen_preds, average='weighted')\n",
        "rec = recall_score(gen_labels, gen_preds, average='weighted')\n",
        "f1 = f1_score(gen_labels, gen_preds, average='weighted')\n",
        "\n",
        "print(f\"\\nEvaluation on generated images:\")\n",
        "print(f\"Accuracy: {acc:.4f}\")\n",
        "print(f\"Precision: {prec:.4f}\")\n",
        "print(f\"Recall: {rec:.4f}\")\n",
        "print(f\"F1 Score: {f1:.4f}\")"
      ]
    },
    {
      "cell_type": "code",
      "execution_count": 13,
      "metadata": {
        "colab": {
          "base_uri": "https://localhost:8080/",
          "height": 653
        },
        "id": "KMBeyIspNVcm",
        "outputId": "d0056da5-7288-48b0-b142-5b7618504c7e"
      },
      "outputs": [
        {
          "output_type": "display_data",
          "data": {
            "text/plain": [
              "<Figure size 1200x800 with 15 Axes>"
            ],
            "image/png": "[encoded data removed]"
          },
          "metadata": {}
        }
      ],
      "source": [
        "# 10. Visualize generated images\n",
        "fig, axs = plt.subplots(num_classes, 5, figsize=(12,8))\n",
        "for i in range(num_classes):\n",
        "    label_tensor = torch.full((5,), i, dtype=torch.long, device=device)\n",
        "    z = torch.randn(5, latent_dim, device=device)\n",
        "    gen_imgs = generator(z, label_tensor).cpu()\n",
        "    for j in range(5):\n",
        "        # Detach the tensor before converting to NumPy for visualization\n",
        "        axs[i,j].imshow(gen_imgs[j][0].detach() * 0.5 + 0.5, cmap='gray')\n",
        "        axs[i,j].axis('off')\n",
        "        if j == 2:\n",
        "            axs[i,j].set_title(shapes[i])\n",
        "plt.tight_layout()\n",
        "plt.show()"
      ]
    },
    {
      "cell_type": "code",
      "execution_count": 13,
      "metadata": {
        "id": "fjj6amUJNVvE"
      },
      "outputs": [],
      "source": []
    }
  ],
  "metadata": {
    "colab": {
      "provenance": [],
      "include_colab_link": true
    },
    "kernelspec": {
      "display_name": "Python 3",
      "name": "python3"
    },
    "language_info": {
      "name": "python"
    }
  },
  "nbformat": 4,
  "nbformat_minor": 0
}
